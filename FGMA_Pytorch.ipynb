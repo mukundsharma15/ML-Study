{
 "cells": [
  {
   "cell_type": "markdown",
   "metadata": {},
   "source": [
    "# Step 2"
   ]
  },
  {
   "cell_type": "markdown",
   "metadata": {},
   "source": [
    "In step 2 you will be using **Pytorch** to import MNIST, train a neural network on MNIST, find examples that \"fool\" that trained network, and, if you're a 6505 student, propose a way to deal with these examples."
   ]
  },
  {
   "cell_type": "markdown",
   "metadata": {},
   "source": [
    "## Question 1"
   ]
  },
  {
   "cell_type": "markdown",
   "metadata": {},
   "source": [
    "Start by importing both the training and testing MNIST datasets using DataLoaders and the torchvision provided datasets. You can set both the training and testing batch size to be whatever you feel is best."
   ]
  },
  {
   "cell_type": "code",
   "execution_count": 1,
   "metadata": {},
   "outputs": [],
   "source": [
    "import torch\n",
    "from torchvision import datasets\n",
    "from torchvision.transforms import ToTensor"
   ]
  },
  {
   "cell_type": "code",
   "execution_count": 2,
   "metadata": {},
   "outputs": [],
   "source": [
    "train_data = datasets.MNIST(\n",
    "    root = 'data',\n",
    "    train = True,                         \n",
    "    transform = ToTensor(), \n",
    "    download = True,            \n",
    ")\n",
    "test_data = datasets.MNIST(\n",
    "    root = 'data', \n",
    "    train = False, \n",
    "    transform = ToTensor()\n",
    ")"
   ]
  },
  {
   "cell_type": "code",
   "execution_count": 3,
   "metadata": {},
   "outputs": [
    {
     "data": {
      "text/plain": [
       "(Dataset MNIST\n",
       "     Number of datapoints: 60000\n",
       "     Root location: data\n",
       "     Split: Train\n",
       "     StandardTransform\n",
       " Transform: ToTensor(),\n",
       " Dataset MNIST\n",
       "     Number of datapoints: 10000\n",
       "     Root location: data\n",
       "     Split: Test\n",
       "     StandardTransform\n",
       " Transform: ToTensor())"
      ]
     },
     "execution_count": 3,
     "metadata": {},
     "output_type": "execute_result"
    }
   ],
   "source": [
    "train_data, test_data"
   ]
  },
  {
   "cell_type": "code",
   "execution_count": 4,
   "metadata": {},
   "outputs": [],
   "source": [
    "#splitting the dataset in 50,000 for training the model and 10,000 for perterbed images\n",
    "train_set, splitted_train_set = torch.utils.data.random_split(train_data, [50000, 10000])"
   ]
  },
  {
   "cell_type": "code",
   "execution_count": 5,
   "metadata": {},
   "outputs": [],
   "source": [
    "from torch.utils.data import DataLoader"
   ]
  },
  {
   "cell_type": "code",
   "execution_count": 6,
   "metadata": {},
   "outputs": [],
   "source": [
    "loaders = {\n",
    "    'train' : torch.utils.data.DataLoader(train_set, \n",
    "                                          batch_size=100, \n",
    "                                          shuffle=True, \n",
    "                                          num_workers=1),\n",
    "    'test'  : torch.utils.data.DataLoader(test_data, \n",
    "                                          batch_size=10000, \n",
    "                                          shuffle=True, \n",
    "                                          num_workers=1),\n",
    "    'perturbed'  : torch.utils.data.DataLoader(splitted_train_set, \n",
    "                                          batch_size=1, \n",
    "                                          shuffle=True, \n",
    "                                          num_workers=1),\n",
    "}"
   ]
  },
  {
   "cell_type": "code",
   "execution_count": null,
   "metadata": {},
   "outputs": [],
   "source": []
  },
  {
   "cell_type": "code",
   "execution_count": null,
   "metadata": {},
   "outputs": [],
   "source": []
  },
  {
   "cell_type": "markdown",
   "metadata": {},
   "source": [
    "## Question 2"
   ]
  },
  {
   "cell_type": "markdown",
   "metadata": {},
   "source": [
    "Define a network with the following architecture:\n",
    "\n",
    "Conv2d (input channels=1, output channels = 15,kernel size = 5)\n",
    "$\\rightarrow$\n",
    "MaxPool (kernel size = 2)\n",
    "$\\rightarrow$\n",
    "ReLU\n",
    "$\\rightarrow$\n",
    "Conv2d (input channels=15, output channels = 30,kernel size = 5)\n",
    "$\\rightarrow$\n",
    "Dropout2d (p = 0.5)\n",
    "$\\rightarrow$\n",
    "MaxPool (kernel size = 2)\n",
    "$\\rightarrow$\n",
    "ReLU\n",
    "$\\rightarrow$\n",
    "Linear(input dimension = 480, hidden units = 64)\n",
    "$\\rightarrow$\n",
    "ReLU\n",
    "$\\rightarrow$\n",
    "Dropout (p=0.5)\n",
    "$\\rightarrow$\n",
    "Linear(input dimension = 64, hidden units = 10)\n",
    "$\\rightarrow$\n",
    "LogSoftMax"
   ]
  },
  {
   "cell_type": "code",
   "execution_count": 7,
   "metadata": {},
   "outputs": [],
   "source": [
    "import torch.nn as nn"
   ]
  },
  {
   "cell_type": "code",
   "execution_count": 8,
   "metadata": {},
   "outputs": [],
   "source": [
    "class CNN(nn.Module):\n",
    "    def __init__(self):\n",
    "        super(CNN, self).__init__()\n",
    "        self.conv1 = nn.Sequential(         \n",
    "            nn.Conv2d(\n",
    "                in_channels=1,              \n",
    "                out_channels=15,            \n",
    "                kernel_size=5,              \n",
    "                stride=1,                                     \n",
    "            ),\n",
    "            nn.MaxPool2d(kernel_size=2),\n",
    "            nn.ReLU(),                      \n",
    "                \n",
    "        )\n",
    "        self.conv2 = nn.Sequential(\n",
    "            nn.Conv2d(\n",
    "                in_channels=15,              \n",
    "                out_channels=30,\n",
    "                kernel_size=5,\n",
    "            ),\n",
    "            nn.Dropout(0.50),                          \n",
    "            nn.MaxPool2d(2),\n",
    "            nn.ReLU(),\n",
    "        )\n",
    "        self.linear = nn.Sequential(\n",
    "            nn.Linear(in_features=480, out_features=64),\n",
    "            nn.ReLU(),\n",
    "            nn.Dropout(p=0.5),\n",
    "            nn.Linear(in_features=64, out_features=10),\n",
    "        )\n",
    "        \n",
    "    def forward(self, x):\n",
    "        x = self.conv1(x)\n",
    "        x = self.conv2(x)\n",
    "        \n",
    "        x = x.view(x.size(0), -1)       \n",
    "        x = self.linear(x)\n",
    "        output = nn.LogSoftmax(x)\n",
    "        return x, output"
   ]
  },
  {
   "cell_type": "code",
   "execution_count": 9,
   "metadata": {},
   "outputs": [
    {
     "name": "stdout",
     "output_type": "stream",
     "text": [
      "CNN(\n",
      "  (conv1): Sequential(\n",
      "    (0): Conv2d(1, 15, kernel_size=(5, 5), stride=(1, 1))\n",
      "    (1): MaxPool2d(kernel_size=2, stride=2, padding=0, dilation=1, ceil_mode=False)\n",
      "    (2): ReLU()\n",
      "  )\n",
      "  (conv2): Sequential(\n",
      "    (0): Conv2d(15, 30, kernel_size=(5, 5), stride=(1, 1))\n",
      "    (1): Dropout(p=0.5, inplace=False)\n",
      "    (2): MaxPool2d(kernel_size=2, stride=2, padding=0, dilation=1, ceil_mode=False)\n",
      "    (3): ReLU()\n",
      "  )\n",
      "  (linear): Sequential(\n",
      "    (0): Linear(in_features=480, out_features=64, bias=True)\n",
      "    (1): ReLU()\n",
      "    (2): Dropout(p=0.5, inplace=False)\n",
      "    (3): Linear(in_features=64, out_features=10, bias=True)\n",
      "  )\n",
      ")\n",
      "CNN(\n",
      "  (conv1): Sequential(\n",
      "    (0): Conv2d(1, 15, kernel_size=(5, 5), stride=(1, 1))\n",
      "    (1): MaxPool2d(kernel_size=2, stride=2, padding=0, dilation=1, ceil_mode=False)\n",
      "    (2): ReLU()\n",
      "  )\n",
      "  (conv2): Sequential(\n",
      "    (0): Conv2d(15, 30, kernel_size=(5, 5), stride=(1, 1))\n",
      "    (1): Dropout(p=0.5, inplace=False)\n",
      "    (2): MaxPool2d(kernel_size=2, stride=2, padding=0, dilation=1, ceil_mode=False)\n",
      "    (3): ReLU()\n",
      "  )\n",
      "  (linear): Sequential(\n",
      "    (0): Linear(in_features=480, out_features=64, bias=True)\n",
      "    (1): ReLU()\n",
      "    (2): Dropout(p=0.5, inplace=False)\n",
      "    (3): Linear(in_features=64, out_features=10, bias=True)\n",
      "  )\n",
      ")\n"
     ]
    }
   ],
   "source": [
    "import copy\n",
    "model = CNN()\n",
    "model2 = copy.deepcopy(model)\n",
    "print(model)\n",
    "print(model2)"
   ]
  },
  {
   "cell_type": "code",
   "execution_count": null,
   "metadata": {},
   "outputs": [],
   "source": []
  },
  {
   "cell_type": "code",
   "execution_count": null,
   "metadata": {},
   "outputs": [],
   "source": []
  },
  {
   "cell_type": "markdown",
   "metadata": {},
   "source": [
    "## Question 3"
   ]
  },
  {
   "cell_type": "markdown",
   "metadata": {},
   "source": [
    "Train the network you defined in the previous question on MNIST, using the optimizer and the number of training epochs you deem appropriate. Use a cross-entropy loss. Each epoch test your model on the testing dataset and print the value of the accuracy that you achieve. Produce a plot of the loss against the number of epochs.\n",
    "\n",
    "**Note**: Do not be overly worried about the accuracy that you achieve with your model. It should be upwards of 95% at the very least, but you won't get bonus marks for training a model that has 99.x% accuracy."
   ]
  },
  {
   "cell_type": "code",
   "execution_count": 10,
   "metadata": {},
   "outputs": [],
   "source": [
    "from torch import optim"
   ]
  },
  {
   "cell_type": "code",
   "execution_count": 11,
   "metadata": {},
   "outputs": [],
   "source": [
    "# hyperparameters\n",
    "learning_rate = 0.01\n",
    "momentum=0.9"
   ]
  },
  {
   "cell_type": "code",
   "execution_count": 12,
   "metadata": {},
   "outputs": [],
   "source": [
    "optimizer = optim.SGD(model.parameters(), learning_rate, momentum)\n",
    "loss_func = nn.CrossEntropyLoss()"
   ]
  },
  {
   "cell_type": "code",
   "execution_count": 13,
   "metadata": {},
   "outputs": [],
   "source": [
    "optimizer2 = optim.SGD(model2.parameters(), learning_rate, momentum)"
   ]
  },
  {
   "cell_type": "code",
   "execution_count": 14,
   "metadata": {},
   "outputs": [
    {
     "data": {
      "text/plain": [
       "(SGD (\n",
       " Parameter Group 0\n",
       "     dampening: 0\n",
       "     lr: 0.01\n",
       "     maximize: False\n",
       "     momentum: 0.9\n",
       "     nesterov: False\n",
       "     weight_decay: 0\n",
       " ),\n",
       " SGD (\n",
       " Parameter Group 0\n",
       "     dampening: 0\n",
       "     lr: 0.01\n",
       "     maximize: False\n",
       "     momentum: 0.9\n",
       "     nesterov: False\n",
       "     weight_decay: 0\n",
       " ))"
      ]
     },
     "execution_count": 14,
     "metadata": {},
     "output_type": "execute_result"
    }
   ],
   "source": [
    "optimizer, optimizer2"
   ]
  },
  {
   "cell_type": "code",
   "execution_count": 15,
   "metadata": {},
   "outputs": [],
   "source": [
    "from torch.autograd import Variable"
   ]
  },
  {
   "cell_type": "code",
   "execution_count": 16,
   "metadata": {},
   "outputs": [],
   "source": [
    "num_epochs = 2"
   ]
  },
  {
   "cell_type": "code",
   "execution_count": 17,
   "metadata": {},
   "outputs": [],
   "source": [
    "epoch_loss = []\n",
    "e = []\n",
    "def train(num_epochs, model, loaders):\n",
    "    \n",
    "    model.train()\n",
    "    total_step = len(loaders['train'])\n",
    "\n",
    "    for epoch in range(num_epochs):\n",
    "        total_train_loss = 0\n",
    "        for i, (images, labels) in enumerate(loaders['train']):\n",
    "            \n",
    "            b_x = Variable(images)   #x\n",
    "            b_y = Variable(labels)   #y\n",
    "            output = model(b_x)[0]               \n",
    "            loss = loss_func(output, b_y)\n",
    "            \n",
    "            # ask pytorch to not accumulates gradient, forward pass\n",
    "            optimizer.zero_grad()\n",
    "            \n",
    "            loss.backward()             \n",
    "            optimizer.step()\n",
    "            \n",
    "            #capturing training loss in an epoch\n",
    "            total_train_loss += loss.item()\n",
    "        else:\n",
    "            # testing the model after every epoch\n",
    "            print(\"Epoch {} - Training loss: {}\".format(epoch, total_train_loss/total_step))\n",
    "            epoch_loss.append(total_train_loss/total_step)\n",
    "            e.append(epoch)\n",
    "            \n",
    "            # Test the model\n",
    "            model.eval()\n",
    "            with torch.no_grad():\n",
    "                for images, labels in loaders['test']:\n",
    "                    test_output, last_layer = model(images)\n",
    "                    pred_y = torch.max(test_output, 1)[1].data.squeeze()\n",
    "                    accuracy = (pred_y == labels).sum().item() / float(labels.size(0))\n",
    "        print('Test Accuracy of the model on the 10000 test images: %.2f' % accuracy)\n",
    "        print(\"=====================================================================\")"
   ]
  },
  {
   "cell_type": "code",
   "execution_count": 18,
   "metadata": {
    "scrolled": false
   },
   "outputs": [
    {
     "name": "stdout",
     "output_type": "stream",
     "text": [
      "Epoch 0 - Training loss: 0.6383922972381115\n",
      "Test Accuracy of the model on the 10000 test images: 0.96\n",
      "=====================================================================\n",
      "Epoch 1 - Training loss: 0.10007520801387727\n",
      "Test Accuracy of the model on the 10000 test images: 0.98\n",
      "=====================================================================\n"
     ]
    }
   ],
   "source": [
    "train(num_epochs, model, loaders)"
   ]
  },
  {
   "cell_type": "code",
   "execution_count": 19,
   "metadata": {},
   "outputs": [
    {
     "name": "stdout",
     "output_type": "stream",
     "text": [
      "Prediction number: [4 5 8 9 7 0 6 8 5 7]\n",
      "Actual number: [4 8 8 9 7 0 6 8 5 7]\n"
     ]
    }
   ],
   "source": [
    "# checking output from model\n",
    "dataset = next(iter(loaders['test']))\n",
    "images, labels = dataset\n",
    "\n",
    "actual_labels = labels[:10].numpy()\n",
    "\n",
    "test_output, last_layer = model(images[:10])\n",
    "pred_y = torch.max(test_output, 1)[1].data.numpy().squeeze()\n",
    "print(f'Prediction number: {pred_y}')\n",
    "print(f'Actual number: {actual_labels}')"
   ]
  },
  {
   "cell_type": "code",
   "execution_count": 20,
   "metadata": {},
   "outputs": [],
   "source": [
    "import matplotlib.pyplot as plt"
   ]
  },
  {
   "cell_type": "code",
   "execution_count": 21,
   "metadata": {},
   "outputs": [
    {
     "data": {
      "text/plain": [
       "([0, 1], [0.6383922972381115, 0.10007520801387727])"
      ]
     },
     "execution_count": 21,
     "metadata": {},
     "output_type": "execute_result"
    }
   ],
   "source": [
    "# graph epoch vs epoch_loss\n",
    "e, epoch_loss"
   ]
  },
  {
   "cell_type": "code",
   "execution_count": 22,
   "metadata": {},
   "outputs": [
    {
     "data": {
      "image/png": "[encoded data removed]",
      "text/plain": [
       "<Figure size 432x288 with 1 Axes>"
      ]
     },
     "metadata": {
      "needs_background": "light"
     },
     "output_type": "display_data"
    }
   ],
   "source": [
    "plt.plot(e, epoch_loss, color='red', marker='o')\n",
    "plt.title('Loss Vs epoch', fontsize=14)\n",
    "plt.xlabel('Epoch', fontsize=14)\n",
    "plt.ylabel('Loss', fontsize=14)\n",
    "plt.grid(True)\n",
    "plt.show()"
   ]
  },
  {
   "cell_type": "code",
   "execution_count": null,
   "metadata": {},
   "outputs": [],
   "source": []
  },
  {
   "cell_type": "code",
   "execution_count": null,
   "metadata": {},
   "outputs": [],
   "source": []
  },
  {
   "cell_type": "markdown",
   "metadata": {},
   "source": [
    "## Question 4"
   ]
  },
  {
   "cell_type": "markdown",
   "metadata": {},
   "source": [
    "### Part 1"
   ]
  },
  {
   "cell_type": "markdown",
   "metadata": {},
   "source": [
    "Suppose that you have a fully trained network, and that you wanted to find images that \"fooled\" it, i.e., images that are misclassified by your network.\n",
    "\n",
    "One simple approach would be to take an input image, and then alter it in the direction of ascent of the gradient of the loss w.r.t to the pixels of that input image. Mathematically:\n",
    "\n",
    "$\n",
    "\\begin{equation}\n",
    "x^´ = x + \\epsilon \\,\\text{sign}\\left[\\nabla_x \\mathcal{L(\\theta,x,y}) \\right]\n",
    "\\end{equation}\n",
    "$,\n",
    "\n",
    "where $x^´$ is the (perturbed) image you hope will fool the classifier, $x$ is the input image, $y$ is the label of the original image, $\\theta$ are the network parameters, $\\epsilon$ is a hyperparameter controlling the strength of the perturbation, and $\\mathcal{L}$ is the loss.\n",
    "\n",
    "Implement this in Pytorch, using the model you trained in question 3. Generate one $x'$ for all the images in the MNIST testing set, keep the $x^´$ that sucessfully fool your model, alongside their original labels and their predicted (wrong) labels, and print out the accuracy of your model in the perturbed testing set (all the $x^´$ obtained from the images in the original testing set using the equation above), for the following epsilons: $\\epsilon = 0,0.05,0.15,0.25$\n",
    "\n",
    "**Hint**: A line of code similar to \"data.requires_grad = True\" is needed somewhere in your solution"
   ]
  },
  {
   "cell_type": "code",
   "execution_count": 23,
   "metadata": {},
   "outputs": [],
   "source": [
    "# creating an attack function to generate perturbed dataset and testing on the model from step3\n",
    "# in this func, we are creating a fast gradient sign attack, which we will use to fool our network\n",
    "# clean input image, epsilon value, data_grad= gradient of the loss w.r.t input img.\n",
    "def fgsm_attack(image, epsilon, data_grad):\n",
    "    \n",
    "    # get the gradient\n",
    "    sign_data_grad = data_grad.sign()\n",
    "    \n",
    "    # adjusting the input image, 𝑥+𝜖 sign[∇𝑥 L(theta,x,y)] \n",
    "    perturbed_image = image + epsilon*sign_data_grad\n",
    "    perturbed_image = torch.clamp(perturbed_image, 0, 1)\n",
    "    \n",
    "    return perturbed_image"
   ]
  },
  {
   "cell_type": "code",
   "execution_count": 24,
   "metadata": {},
   "outputs": [],
   "source": [
    "def test(model, device, test_loader, epsilon ):\n",
    "\n",
    "    correct = 0\n",
    "    adv_examples = []\n",
    "\n",
    "    for data, target in test_loader:\n",
    "\n",
    "        data, target = data.to(device), target.to(device)\n",
    "\n",
    "        # Important for Attack, setting requires_grad=True\n",
    "        data.requires_grad = True\n",
    "        output = model(data)[0]\n",
    "        init_pred = output.max(1, keepdim=True)[1]\n",
    "\n",
    "        # checking prediction, if wrong, just move on\n",
    "        if init_pred.item() != target.item():\n",
    "            continue\n",
    "\n",
    "        loss = loss_func(output, target)\n",
    "        model.zero_grad()\n",
    "        loss.backward()\n",
    "\n",
    "        # Collecting datagrad\n",
    "        data_grad = data.grad.data\n",
    "\n",
    "        # calling attack func here\n",
    "        perturbed_data = fgsm_attack(data, epsilon, data_grad)\n",
    "\n",
    "        # getting prediction on perturbed image\n",
    "        output = model(perturbed_data)[0]\n",
    "        final_pred = torch.max(output, 1)[1].data.squeeze()\n",
    "        \n",
    "        if final_pred.item() == target.item():\n",
    "            # increasing correct predicted images and checking for epsilon 0\n",
    "            correct += 1\n",
    "            if (epsilon == 0) and (len(adv_examples) < 5):\n",
    "                adv_ex = perturbed_data.squeeze().detach().cpu().numpy()\n",
    "                adv_examples.append( (init_pred.item(), final_pred.item(), adv_ex) )\n",
    "        else:\n",
    "            if len(adv_examples) < 5:\n",
    "                adv_ex = perturbed_data.squeeze().detach().cpu().numpy()\n",
    "                adv_examples.append( (init_pred.item(), final_pred.item(), adv_ex) )\n",
    "\n",
    "    # accuracy for each epsilon\n",
    "    final_acc = correct/float(len(test_loader))\n",
    "    print(\"Epsilon: {}\\tTest Accuracy = {} / {} = {}\".format(epsilon, correct, len(test_loader), final_acc))\n",
    "    return final_acc, adv_examples"
   ]
  },
  {
   "cell_type": "code",
   "execution_count": 25,
   "metadata": {},
   "outputs": [
    {
     "name": "stdout",
     "output_type": "stream",
     "text": [
      "Epsilon: 0\tTest Accuracy = 9770 / 10000 = 0.977\n",
      "Epsilon: 0.05\tTest Accuracy = 9091 / 10000 = 0.9091\n",
      "Epsilon: 0.15\tTest Accuracy = 5009 / 10000 = 0.5009\n",
      "Epsilon: 0.25\tTest Accuracy = 898 / 10000 = 0.0898\n"
     ]
    }
   ],
   "source": [
    "accuracies = []\n",
    "examples = []\n",
    "epsilons = [0,0.05,0.15,0.25]\n",
    "device=\"cpu\"\n",
    "\n",
    "# Run test for each epsilon\n",
    "for eps in epsilons:\n",
    "    # here we are using the 10,000 images we kept aside\n",
    "    acc, ex = test(model, device , loaders['perturbed'], eps)\n",
    "    accuracies.append(acc)\n",
    "    examples.append(ex)"
   ]
  },
  {
   "cell_type": "code",
   "execution_count": 26,
   "metadata": {
    "scrolled": true
   },
   "outputs": [
    {
     "data": {
      "image/png": "[encoded data removed]",
      "text/plain": [
       "<Figure size 360x360 with 1 Axes>"
      ]
     },
     "metadata": {
      "needs_background": "light"
     },
     "output_type": "display_data"
    }
   ],
   "source": [
    "import numpy as np\n",
    "plt.figure(figsize=(5,5))\n",
    "plt.plot(epsilons, accuracies, \"*-\")\n",
    "plt.yticks(np.arange(0, 1.1, step=0.1))\n",
    "plt.xticks(np.arange(0, .35, step=0.05))\n",
    "plt.title(\"Accuracy vs Epsilon\")\n",
    "plt.xlabel(\"Epsilon\")\n",
    "plt.ylabel(\"Accuracy\")\n",
    "plt.show()"
   ]
  },
  {
   "cell_type": "code",
   "execution_count": null,
   "metadata": {},
   "outputs": [],
   "source": []
  },
  {
   "cell_type": "code",
   "execution_count": null,
   "metadata": {},
   "outputs": [],
   "source": []
  },
  {
   "cell_type": "markdown",
   "metadata": {},
   "source": [
    "### Part 2"
   ]
  },
  {
   "cell_type": "markdown",
   "metadata": {},
   "source": [
    "Show some of the images that fooled your network in part 1 (plt.imshow will come in handy), making sure to include both what their original and perturbed labels were in the title of your plot. Does it make sense to you that these images are fooling your network? Why or why not?"
   ]
  },
  {
   "cell_type": "code",
   "execution_count": 27,
   "metadata": {},
   "outputs": [
    {
     "data": {
      "image/png": "[encoded data removed]",
      "text/plain": [
       "<Figure size 576x720 with 20 Axes>"
      ]
     },
     "metadata": {},
     "output_type": "display_data"
    }
   ],
   "source": [
    "# plotting the graphs, for the prediction on each epsilon \n",
    "cnt = 0\n",
    "plt.figure(figsize=(8,10))\n",
    "for i in range(len(epsilons)):\n",
    "    for j in range(len(examples[i])):\n",
    "        cnt += 1\n",
    "        plt.subplot(len(epsilons),len(examples[0]),cnt)\n",
    "        plt.xticks([], [])\n",
    "        plt.yticks([], [])\n",
    "        if j == 0:\n",
    "            plt.ylabel(\"Eps: {}\".format(epsilons[i]), fontsize=14)\n",
    "        orig,adv,ex = examples[i][j]\n",
    "        plt.title(\"{} -> {}\".format(orig, adv))\n",
    "        plt.imshow(ex, cmap=\"gray\")\n",
    "plt.tight_layout()\n",
    "plt.show()"
   ]
  },
  {
   "cell_type": "markdown",
   "metadata": {},
   "source": [
    "## Does it make sense to you that these images are fooling your network? Why or why not?"
   ]
  },
  {
   "cell_type": "markdown",
   "metadata": {},
   "source": [
    "Yes, what we are actually doing through this FGSM attack is, we are changing the way of parameter update.\n",
    "\n",
    "\n",
    "\n",
    "Traditional approach: After calculating the loss, we use backpropogation to calculate the gradient and update the parameters.\n",
    "\n",
    "\n",
    "\n",
    "Using FGSM: It is a white-box attack and we are using this appraoch to fool our model, in which it calculates the gradient of the loss with respect to the input image and create a new image that maximizes the loss. The new images is called perturbed image and the expression is as follows:\n",
    "\n",
    "$ perturbed_image = input_image + \\epsilon \\,\\text{sign}\\left[\\nabla_x \\mathcal{L(\\theta,x,y}) \\right] $\n",
    "\n",
    "\n",
    "In this we are not trying to train the model again, that's why we are not taking gradient with respect to model parameters, so that the model parameters remain constant.\n",
    "\n",
    "\n",
    "\n",
    "-- L(theta, x, y) is the loss that is used to train the network.\n",
    "\n",
    "\n",
    "-- The attack, backpropagates the gradient back to the input data to calculate ∇𝑥 L(theta,x,y)\n",
    "\n",
    "\n",
    "-- Then, it adjusts the input image with a small step (epsilon) in the direction of sign (which will mazimize the loss) -- sign[∇𝑥 L(theta,x,y). The larger the epsilon the larger will be the step in the direction that will minimize the loss\n",
    "\n",
    "\n",
    "-- perturbed_image = image + epsilon*sign_data_grad"
   ]
  },
  {
   "cell_type": "code",
   "execution_count": null,
   "metadata": {},
   "outputs": [],
   "source": []
  },
  {
   "cell_type": "markdown",
   "metadata": {},
   "source": [
    "## Question 5 (6505 only)"
   ]
  },
  {
   "cell_type": "markdown",
   "metadata": {},
   "source": [
    "Can you think of a way to make your network more robust to these perturbed images? Does your proposal have drawbacks? Run any experiments you feel are needed to prove your claims.\n",
    "\n",
    "**Note**: You are not expected to find a perfect solution, just something that makes sense and has some evidence backing it up. You will be marked on the persuasiveness of your argument/experiments and how much sense your proposal makes, not the overall improvements in robustness you achieve (however, if your proposal worsens the problem, then that's a pretty solid hint you're going in the wrong direction)."
   ]
  },
  {
   "cell_type": "code",
   "execution_count": null,
   "metadata": {},
   "outputs": [],
   "source": []
  },
  {
   "cell_type": "code",
   "execution_count": null,
   "metadata": {},
   "outputs": [],
   "source": []
  },
  {
   "cell_type": "markdown",
   "metadata": {},
   "source": [
    "Solution: One approach which can come handy to increase the efficiency of our model is to use the perturbed images while training the model, This method is commonly known as Adversarial training. But the drawback of this appraoch is, we have to again train our model which will eventually increase the training time."
   ]
  },
  {
   "cell_type": "markdown",
   "metadata": {},
   "source": [
    "And obviously using perturbed images to train the model does not gurantee 100% resistance to adversial attacks, but it reduces the number of errors."
   ]
  },
  {
   "cell_type": "markdown",
   "metadata": {},
   "source": [
    "Here I am training a new model with 50,000 images (First using original image and then FGSM attack image of the original image) and while testing the model I am giving 10,000 perturbed images with 0,0.05,0.15,0.25 as epsilon values."
   ]
  },
  {
   "cell_type": "markdown",
   "metadata": {},
   "source": [
    "This concept is implemented into the code by feeding both the original and the perturbed training set into the architecture at the same time. Here i am using both types of data for adversarial training to prevent the loss in accuracy on the original set of data. The network will starts from the checkpoint where it is already trained during adversarial training to prevent from accuracy decrease on clean data during further training."
   ]
  },
  {
   "cell_type": "code",
   "execution_count": 28,
   "metadata": {},
   "outputs": [],
   "source": [
    "epoch_loss = []\n",
    "e = []\n",
    "\n",
    "def adversarial_train(num_epochs, model, loaders):\n",
    "    \n",
    "    model2.train()\n",
    "    total_step = len(loaders['train'])\n",
    "\n",
    "    for epoch in range(num_epochs):\n",
    "        total_train_loss = 0\n",
    "        for images, labels in (loaders['train']):\n",
    "            \n",
    "            b_x = Variable(images)  \n",
    "            b_y = Variable(labels)   \n",
    "            \n",
    "            optimizer2.zero_grad()\n",
    "            output = model2(b_x)[0]               \n",
    "            loss = loss_func(output, b_y)\n",
    "            loss.backward()             \n",
    "            optimizer2.step()\n",
    "            \n",
    "            #capturing training loss in an epoch\n",
    "            total_train_loss += loss.item()\n",
    "            \n",
    "            \n",
    "            # perturbed image\n",
    "            images.requires_grad = True\n",
    "            output = model2(images)[0]\n",
    "            loss = loss_func(output, labels)\n",
    "            model2.zero_grad()\n",
    "            loss.backward()\n",
    "            data_grad = images.grad.data\n",
    "            perturbed_data = fgsm_attack(images, 0.25, data_grad)\n",
    "            \n",
    "            # Adversarial training\n",
    "            b_x = Variable(perturbed_data)\n",
    "            optimizer2.zero_grad()\n",
    "            output = model2(perturbed_data)[0]               \n",
    "            loss = loss_func(output, labels)\n",
    "            loss.backward()             \n",
    "            optimizer2.step()\n",
    "            \n",
    "            total_train_loss += loss.item()\n",
    "            \n",
    "        else:\n",
    "            print(\"Epoch {} - Training loss: {}\".format(epoch, total_train_loss/total_step))\n",
    "            epoch_loss.append(total_train_loss/total_step)\n",
    "            e.append(epoch)\n",
    "            \n",
    "            # Test the model\n",
    "            model2.eval()\n",
    "            with torch.no_grad():\n",
    "                for images, labels in loaders['test']:\n",
    "                    test_output, last_layer = model2(images)\n",
    "                    pred_y = torch.max(test_output, 1)[1].data.squeeze()\n",
    "                    accuracy = (pred_y == labels).sum().item() / float(labels.size(0))\n",
    "        print('Test Accuracy of the model on the 10000 test images: %.2f' % accuracy)\n",
    "        print(\"=====================================================================\")"
   ]
  },
  {
   "cell_type": "code",
   "execution_count": 29,
   "metadata": {
    "scrolled": false
   },
   "outputs": [
    {
     "name": "stdout",
     "output_type": "stream",
     "text": [
      "Epoch 0 - Training loss: 1.7365897480845451\n",
      "Test Accuracy of the model on the 10000 test images: 0.97\n",
      "=====================================================================\n",
      "Epoch 1 - Training loss: 0.7194606839381158\n",
      "Test Accuracy of the model on the 10000 test images: 0.98\n",
      "=====================================================================\n",
      "Epoch 2 - Training loss: 0.5376305292528123\n",
      "Test Accuracy of the model on the 10000 test images: 0.98\n",
      "=====================================================================\n"
     ]
    }
   ],
   "source": [
    "num_epochs = 3\n",
    "adversarial_train(num_epochs, model2, loaders)"
   ]
  },
  {
   "cell_type": "code",
   "execution_count": 30,
   "metadata": {},
   "outputs": [],
   "source": [
    "# now testing the new model on the same 10,000 images I used above with different epsilon values"
   ]
  },
  {
   "cell_type": "code",
   "execution_count": 31,
   "metadata": {},
   "outputs": [
    {
     "name": "stdout",
     "output_type": "stream",
     "text": [
      "Epsilon: 0\tTest Accuracy = 9844 / 10000 = 0.9844\n",
      "Epsilon: 0.05\tTest Accuracy = 9727 / 10000 = 0.9727\n",
      "Epsilon: 0.15\tTest Accuracy = 9295 / 10000 = 0.9295\n",
      "Epsilon: 0.25\tTest Accuracy = 8547 / 10000 = 0.8547\n"
     ]
    }
   ],
   "source": [
    "accuracies = []\n",
    "examples = []\n",
    "epsilons = [0,0.05,0.15,0.25]\n",
    "device=\"cpu\"\n",
    "\n",
    "# Run test for each epsilon\n",
    "for eps in epsilons:\n",
    "    # here we are using the 10,000 images we kept aside\n",
    "    acc, ex = test(model2, device , loaders['perturbed'], eps)\n",
    "    accuracies.append(acc)\n",
    "    examples.append(ex)"
   ]
  },
  {
   "cell_type": "code",
   "execution_count": 32,
   "metadata": {},
   "outputs": [
    {
     "data": {
      "image/png": "[encoded data removed]",
      "text/plain": [
       "<Figure size 360x360 with 1 Axes>"
      ]
     },
     "metadata": {
      "needs_background": "light"
     },
     "output_type": "display_data"
    }
   ],
   "source": [
    "plt.figure(figsize=(5,5))\n",
    "plt.plot(epsilons, accuracies, \"*-\")\n",
    "plt.yticks(np.arange(0, 1.1, step=0.1))\n",
    "plt.xticks(np.arange(0, .35, step=0.05))\n",
    "plt.title(\"Accuracy vs Epsilon\")\n",
    "plt.xlabel(\"Epsilon\")\n",
    "plt.ylabel(\"Accuracy\")\n",
    "plt.show()"
   ]
  },
  {
   "cell_type": "markdown",
   "metadata": {},
   "source": [
    "As we can clearly observe when we trained the model using original images and the FGSM attacked images, the overall accuracy in case of epsilon 0 dropped from 98% to 94%. However, in case of epsilon 0.0, 0.15, 0.25 I am observing a drastic improvement in the model accuracy. "
   ]
  },
  {
   "cell_type": "code",
   "execution_count": null,
   "metadata": {},
   "outputs": [],
   "source": []
  },
  {
   "cell_type": "markdown",
   "metadata": {},
   "source": [
    "## Does your proposal have drawbacks?"
   ]
  },
  {
   "cell_type": "markdown",
   "metadata": {},
   "source": [
    "Although after using the adversarial training approach, we can see a drastic change in the model prediction, but our model is effective on a specific type of attack the model is trained on. If we try with different attacks, our adversarial trained model will not perform better, we need to further investigate and evaluate for better adversarial defense"
   ]
  },
  {
   "cell_type": "code",
   "execution_count": null,
   "metadata": {},
   "outputs": [],
   "source": []
  },
  {
   "cell_type": "code",
   "execution_count": null,
   "metadata": {},
   "outputs": [],
   "source": []
  },
  {
   "cell_type": "code",
   "execution_count": null,
   "metadata": {},
   "outputs": [],
   "source": []
  },
  {
   "cell_type": "markdown",
   "metadata": {},
   "source": [
    "## References"
   ]
  },
  {
   "cell_type": "markdown",
   "metadata": {},
   "source": [
    "[1] “Training using Pytorch” [Online]. \n",
    "Available: https://medium.com/@nutanbhogendrasharma/pytorch-convolutional-neural-network-with-mnist-dataset-4e8a4265e118 [Accessed on 14th March 2022]\n",
    "\n",
    "[2] “Adversarial Attack” [Online]. \n",
    "Available: https://pytorch.org/tutorials/beginner/fgsm_tutorial.html#fast-gradient-sign-attack \n",
    "[Accessed on 15th March 2022]\n",
    "\n",
    "[3] “Attack and defense” [Online]. \n",
    "Available: https://towardsdatascience.com/adversarial-attack-and-defense-on-neural-networks-in-pytorch-82b5bcd9171\n",
    "[Accessed on 16th March 2022]"
   ]
  }
 ],
 "metadata": {
  "kernelspec": {
   "display_name": "Python 3",
   "language": "python",
   "name": "python3"
  },
  "language_info": {
   "codemirror_mode": {
    "name": "ipython",
    "version": 3
   },
   "file_extension": ".py",
   "mimetype": "text/x-python",
   "name": "python",
   "nbconvert_exporter": "python",
   "pygments_lexer": "ipython3",
   "version": "3.8.6"
  }
 },
 "nbformat": 4,
 "nbformat_minor": 2
}
